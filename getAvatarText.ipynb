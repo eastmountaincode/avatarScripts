{
 "cells": [
  {
   "cell_type": "code",
   "execution_count": 63,
   "id": "ea7923b4",
   "metadata": {},
   "outputs": [
    {
     "name": "stderr",
     "output_type": "stream",
     "text": [
      "[WDM] - Downloading: 16.2kB [00:00, 8.06MB/s]                                   \n",
      "/var/folders/7z/_rhjy0ks3q1c4hgg6z7mw0th0000gn/T/ipykernel_35102/3956252730.py:4: DeprecationWarning: executable_path has been deprecated, please pass in a Service object\n",
      "  driver = webdriver.Firefox(executable_path=GeckoDriverManager().install())\n"
     ]
    }
   ],
   "source": [
    "# Start driver\n",
    "from selenium import webdriver\n",
    "from webdriver_manager.firefox import GeckoDriverManager\n",
    "\n",
    "driver = webdriver.Firefox(executable_path=GeckoDriverManager().install())\n"
   ]
  },
  {
   "cell_type": "code",
   "execution_count": 64,
   "id": "eb7360a2",
   "metadata": {},
   "outputs": [],
   "source": [
    "# Get the home page\n",
    "driver.get(\"https://transcripts.thedealr.net/script.php/avatar-the-last-airbender-2005-1kYd/\")"
   ]
  },
  {
   "cell_type": "code",
   "execution_count": 65,
   "id": "8ef92c91",
   "metadata": {},
   "outputs": [],
   "source": [
    "from selenium.webdriver.common.by import By"
   ]
  },
  {
   "cell_type": "code",
   "execution_count": 66,
   "id": "d8db7964",
   "metadata": {},
   "outputs": [],
   "source": [
    "# Get all the elements of links to the various episode scripts\n",
    "elementList = driver.find_elements(By.CLASS_NAME, \"list-group-item-action\")"
   ]
  },
  {
   "cell_type": "code",
   "execution_count": 67,
   "id": "8786c047",
   "metadata": {},
   "outputs": [],
   "source": [
    "# Get links from WebElement objects\n",
    "linkList = []\n",
    "for ele in elementList:\n",
    "    linkList.append(ele.get_attribute('href'))"
   ]
  },
  {
   "cell_type": "code",
   "execution_count": 73,
   "id": "7968afa3",
   "metadata": {
    "scrolled": true
   },
   "outputs": [
    {
     "data": {
      "text/plain": [
       "['https://transcripts.thedealr.net/script.php/avatar-the-last-airbender-2005-1kYd/s3/e1',\n",
       " 'https://transcripts.thedealr.net/script.php/avatar-the-last-airbender-2005-1kYd/s3/e2',\n",
       " 'https://transcripts.thedealr.net/script.php/avatar-the-last-airbender-2005-1kYd/s3/e3',\n",
       " 'https://transcripts.thedealr.net/script.php/avatar-the-last-airbender-2005-1kYd/s3/e4',\n",
       " 'https://transcripts.thedealr.net/script.php/avatar-the-last-airbender-2005-1kYd/s3/e5']"
      ]
     },
     "execution_count": 73,
     "metadata": {},
     "output_type": "execute_result"
    }
   ],
   "source": [
    "linkList[:5]"
   ]
  },
  {
   "cell_type": "code",
   "execution_count": 72,
   "id": "ef4402a5",
   "metadata": {
    "scrolled": true
   },
   "outputs": [],
   "source": [
    "# For each link, navigate to that page with the driver and get the text, then save the text as .txt\n",
    "counter = 1\n",
    "for link in linkList:\n",
    "    driver.get(link)\n",
    "    a = driver.find_elements(By.CLASS_NAME, \"script-full\")\n",
    "    episodeText = a[0].text\n",
    "    fileNameList = link.split('/')\n",
    "    fileName = fileNameList[-2] + fileNameList[-1]\n",
    "    file = open(fileName + '.txt', 'w+')\n",
    "    counter += 1\n",
    "    file.write(episodeText)\n",
    "    file.close()"
   ]
  },
  {
   "cell_type": "code",
   "execution_count": null,
   "id": "db160c4a",
   "metadata": {},
   "outputs": [],
   "source": []
  }
 ],
 "metadata": {
  "kernelspec": {
   "display_name": "Python 3 (ipykernel)",
   "language": "python",
   "name": "python3"
  },
  "language_info": {
   "codemirror_mode": {
    "name": "ipython",
    "version": 3
   },
   "file_extension": ".py",
   "mimetype": "text/x-python",
   "name": "python",
   "nbconvert_exporter": "python",
   "pygments_lexer": "ipython3",
   "version": "3.10.4"
  }
 },
 "nbformat": 4,
 "nbformat_minor": 5
}
